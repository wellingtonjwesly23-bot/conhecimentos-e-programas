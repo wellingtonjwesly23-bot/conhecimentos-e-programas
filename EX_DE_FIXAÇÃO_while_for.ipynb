{
  "nbformat": 4,
  "nbformat_minor": 0,
  "metadata": {
    "colab": {
      "provenance": [],
      "authorship_tag": "ABX9TyOnXmWUZTJi563EZ0Xcxkm4"
    },
    "kernelspec": {
      "name": "python3",
      "display_name": "Python 3"
    },
    "language_info": {
      "name": "python"
    }
  },
  "cells": [
    {
      "cell_type": "code",
      "execution_count": null,
      "metadata": {
        "id": "uhTQYBd-a1yP"
      },
      "outputs": [],
      "source": [
        "#exercicio 1\n",
        "i = 3\n",
        "while (i < 13):\n",
        "    print(i)\n",
        "    i += 1"
      ]
    },
    {
      "cell_type": "code",
      "source": [
        "#exercicio 2\n",
        "for i in range(3, 13, 1):\n",
        "    print(i)"
      ],
      "metadata": {
        "id": "3graGYRjdIoI"
      },
      "execution_count": null,
      "outputs": []
    },
    {
      "cell_type": "code",
      "source": [
        "#exercicio 3\n",
        "for i in range(0, 9, 2):\n",
        "    print(i)"
      ],
      "metadata": {
        "id": "kSoYbwAidWXJ"
      },
      "execution_count": null,
      "outputs": []
    },
    {
      "cell_type": "code",
      "source": [
        "#exercicio 4\n",
        "i = 0\n",
        "while (i < 9):\n",
        "    print(i)\n",
        "    i += 2"
      ],
      "metadata": {
        "id": "wq3uyVk8dkm7"
      },
      "execution_count": null,
      "outputs": []
    },
    {
      "cell_type": "code",
      "source": [
        "#exercicio 5 com um algoritmo que mostra produtos a serem comprados\n",
        "print(\"GORDÃO LANCHES\")\n",
        "print(\"1 - Coxinha - R$ 5,00\")\n",
        "print(\"2 - Pastel - R$ 7,00\")\n",
        "print(\"3 - Café - R$ 4,00\")\n",
        "print(\"4 - Suco - R$ 6,00\")\n",
        "print(\"5 - SAIR\")\n",
        "\n",
        "total = 0\n",
        "while True:\n",
        "    produto = int(input(\"Digite o código do produto: \"))\n",
        "    if produto == 1:\n",
        "      quantidade = int(input(\"Digite a quantidade: \"))\n",
        "      total += 5 * quantidade\n",
        "    elif produto == 2:\n",
        "      quantidade = int(input(\"Digite a quantidade: \"))\n",
        "      total += 7 * quantidade\n",
        "    elif produto == 3:\n",
        "        quantidade = int(input(\"Digite a quantidade: \"))\n",
        "        total += 4 * quantidade\n",
        "    elif produto == 4:\n",
        "      quantidade = int(input(\"Digite a quantidade: \"))\n",
        "      total += 6 * quantidade\n",
        "    elif produto == 5:\n",
        "        break\n",
        "    else:\n",
        "         print(\"Código inválido\")\n",
        "print(\"O total a pagar é R$ \", total)"
      ],
      "metadata": {
        "id": "q5yDiiGUeci5"
      },
      "execution_count": null,
      "outputs": []
    },
    {
      "cell_type": "code",
      "source": [
        "#exercicio 6 com algotitmo que simula um caixa\n",
        "valor = float(input(\"Digite o valor do saque: \"))\n",
        "cedulas = [100, 50, 20, 10, 5, 2, 1]\n",
        "for nota in cedulas:\n",
        "    quantidade = int(valor / nota)\n",
        "    valor -= quantidade * nota\n",
        "    if quantidade > 0:\n",
        "        print(quantidade, \"nota(s) de R$\", nota)"
      ],
      "metadata": {
        "id": "V0kJ3-2rv2iG"
      },
      "execution_count": null,
      "outputs": []
    },
    {
      "cell_type": "code",
      "source": [
        "#Mesmo exercicio com while ao inves de for\n",
        "valor = int(input(\"Digite o valor do saque: \"))\n",
        "while True:\n",
        "  cont100 = valor // 100\n",
        "  valor = valor - cont100 * 100\n",
        "  print(f'Cédulas de 100: {cont100}')\n",
        "  if not valor:\n",
        "    break\n",
        "  cont50 = valor // 50\n",
        "  valor = valor - cont50 * 50\n",
        "  print(f'Cédulas de 50: {cont50}')\n",
        "  if not valor:\n",
        "    break\n",
        "  cont20 = valor // 20\n",
        "  valor = valor - cont20 * 20\n",
        "  print(f'Cédulas de 20: {cont20}')\n",
        "  if not valor:\n",
        "    break\n",
        "  cont10 = valor // 10\n",
        "  valor = valor - cont10 * 10\n",
        "  print(f'Cédulas de 10: {cont10}')\n",
        "  if not valor:\n",
        "    break\n",
        "  cont5 = valor // 5\n",
        "  valor = valor - cont5 * 5\n",
        "  print(f'Cédulas de 5: {cont5}')\n",
        "  if not valor:\n",
        "    break\n",
        "  cont2 = valor // 2\n",
        "  valor = valor - cont2 * 2\n",
        "  print(f'Cédulas de 2: {cont2}')\n",
        "  if not valor:\n",
        "    break\n",
        "  cont1 = valor // 1\n",
        "  valor = valor - cont1 * 1\n",
        "  print(f'Cédulas de 1: {cont1}')\n",
        "  break\n"
      ],
      "metadata": {
        "id": "cgO2cuBJNsgk"
      },
      "execution_count": null,
      "outputs": []
    },
    {
      "cell_type": "code",
      "source": [
        "#exercicio 7 com um algoritmo que simula a compra de ingresso\n",
        "print(\"Cinema\")\n",
        "total = 0\n",
        "dinheiro = 0\n",
        "acc_idades = 0\n",
        "while True:\n",
        "    idade = int(input(\"Digite a idade do ingresso: \"))\n",
        "    if idade == 0:\n",
        "        break\n",
        "\n",
        "    total += 1\n",
        "    acc_idades += idade\n",
        "    if idade < 3:\n",
        "        ingresso = 0\n",
        "    else:\n",
        "        if idade > 12:\n",
        "           ingresso = 30\n",
        "        else:\n",
        "          ingresso = 15\n",
        "\n",
        "    dinheiro += ingresso\n",
        "if total > 0:\n",
        "  media = acc_idades / total\n",
        "\n",
        "  print(f'Total de pessoas: {total}')\n",
        "  print(f'Total de dinheiro: {dinheiro}')\n",
        "  print(f'Média de idade: {media}')\n",
        "\n"
      ],
      "metadata": {
        "id": "yOvkjkYJT5pI"
      },
      "execution_count": null,
      "outputs": []
    }
  ]
}