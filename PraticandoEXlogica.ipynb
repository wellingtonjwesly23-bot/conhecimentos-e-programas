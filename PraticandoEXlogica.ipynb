{
  "nbformat": 4,
  "nbformat_minor": 0,
  "metadata": {
    "colab": {
      "provenance": [],
      "authorship_tag": "ABX9TyOZVKq7O9+c7wzodB7kZBHt",
      "include_colab_link": true
    },
    "kernelspec": {
      "name": "python3",
      "display_name": "Python 3"
    },
    "language_info": {
      "name": "python"
    }
  },
  "cells": [
    {
      "cell_type": "markdown",
      "metadata": {
        "id": "view-in-github",
        "colab_type": "text"
      },
      "source": [
        "<a href=\"https://colab.research.google.com/github/wellingtonjwesly23-bot/conhecimentos-e-programas/blob/main/PraticandoEXlogica.ipynb\" target=\"_parent\"><img src=\"https://colab.research.google.com/assets/colab-badge.svg\" alt=\"Open In Colab\"/></a>"
      ]
    },
    {
      "cell_type": "code",
      "execution_count": null,
      "metadata": {
        "colab": {
          "base_uri": "https://localhost:8080/"
        },
        "id": "pfXbI6y8bNU8",
        "outputId": "6144c0e9-533b-484f-9796-9bdf8c17c749"
      },
      "outputs": [
        {
          "output_type": "stream",
          "name": "stdout",
          "text": [
            "ano não pode ser bissexto\n"
          ]
        }
      ],
      "source": [
        "ano = 1999\n",
        "\n",
        "if (ano % 4 == 0):\n",
        "   print('ano pode ser bissexto')\n",
        "else:\n",
        "   print('ano não pode ser bissexto')"
      ]
    },
    {
      "cell_type": "code",
      "source": [
        "cima = True\n",
        "baixo = True\n",
        "\n",
        "if (cima == True and baixo == True):\n",
        "   print('decida-se')\n",
        "else:\n",
        "   print('Você escolheu um caminho')"
      ],
      "metadata": {
        "colab": {
          "base_uri": "https://localhost:8080/"
        },
        "id": "3ndufIg6cVdD",
        "outputId": "b128c85d-610d-4127-8ded-a479dcb5f0da"
      },
      "execution_count": null,
      "outputs": [
        {
          "output_type": "stream",
          "name": "stdout",
          "text": [
            "decida-se\n"
          ]
        }
      ]
    },
    {
      "cell_type": "code",
      "source": [
        "#triangulo exercicio\n",
        "A = int(input('Digite o lado A: '))\n",
        "B = int(input('Digite o lado B: '))\n",
        "C = int(input('Digite o lado C: '))\n",
        "\n",
        "if ((A > 0 and B > 0 and C > 0) and (A + B > C and A + C > B and B + C > A)):\n",
        "   # SE CHEGOU ATÉ AQUI É PORQUE O TRIANGULO É VALIDO!\n",
        "   if (A != B and A != C and B != C):\n",
        "      print('Triangulo Escaleno!')\n",
        "   else:\n",
        "    if (A == B and A == C):\n",
        "        print('Triangulo Equilatero!')\n",
        "    else:\n",
        "         print('Triangulo Isosceles')\n",
        "else:\n",
        "     print('Triangulo Invalido')\n"
      ],
      "metadata": {
        "id": "qNUQkXL7iVQp"
      },
      "execution_count": null,
      "outputs": []
    },
    {
      "cell_type": "markdown",
      "source": [
        "PROG CALCULADORA\n"
      ],
      "metadata": {
        "id": "NToyLhlcUdil"
      }
    },
    {
      "cell_type": "code",
      "source": [
        "print('Calculadora')\n",
        "print('+ Adição')\n",
        "print('- Subtração')\n",
        "print('* Multiplicação')\n",
        "print('/ Divisão')\n",
        "print('Pressione qualquer outra tecla para sair')\n",
        "\n",
        "opcao = input('Escolha uma opção: ')\n",
        "x = int(input('Digite o primeiro valor: '))\n",
        "y = int(input('Digite o segundo valor: '))\n",
        "\n",
        "if (opcao == '+'):\n",
        "   print(x + y)\n",
        "elif (opcao == '-'):\n",
        "   print(x - y)\n",
        "elif (opcao == '*'):\n",
        "   print(x * y)\n",
        "elif (opcao == '/'):\n",
        "   print(x / y)\n",
        "else:\n",
        "   print('Saindo...')\n"
      ],
      "metadata": {
        "id": "i_7OX1HvUcs-"
      },
      "execution_count": null,
      "outputs": []
    },
    {
      "cell_type": "markdown",
      "source": [
        "PROGRAMA DE CALCULO DE PREÇO DE ENERGIA"
      ],
      "metadata": {
        "id": "vJRwvYxuWpby"
      }
    },
    {
      "cell_type": "code",
      "source": [
        "\n",
        "KWWH = int(input('Digite a quantidade de KWH consumida: '))\n",
        "Residencia = input('Digite o tipo de instalação: ')\n",
        "KWH = 0.71\n",
        "if (Residencia == 'comercial'):\n",
        "   print(int(KWWH * KWH ))\n",
        "elif (Residencia == 'Casa'):\n",
        "     print(int(KWWH * KWH))\n",
        "else:\n",
        "     print('Residencia invalida\"')\n"
      ],
      "metadata": {
        "id": "nBk_elXgWxNn"
      },
      "execution_count": null,
      "outputs": []
    },
    {
      "cell_type": "code",
      "source": [
        "#Versão2 do prog de calc de energia\n",
        "kwhs = int(input('Digite a quantidade de KWH consumida: '))\n",
        "tipo = input('Digite o tipo de instalação: (R, C OU I) ')\n",
        "\n",
        "if (tipo == 'R'):\n",
        "   if kwhs >= 500:\n",
        "      print(kwhs * 0.65)\n",
        "   else:\n",
        "      print(kwhs * 0.40)\n",
        "elif (tipo == 'C'):\n",
        "   if kwhs >= 1000:\n",
        "      print(kwhs * 0.60)\n",
        "   else:\n",
        "      print(kwhs * 0.55)\n",
        "elif (tipo == 'I'):\n",
        "   if kwhs >= 5000:\n",
        "      print(kwhs * 0.60)\n",
        "   else:\n",
        "      print(kwhs * 0.55)\n",
        "else:\n",
        "   print('Residencia invalida\"')\n"
      ],
      "metadata": {
        "id": "3rR9T0xwh48v"
      },
      "execution_count": null,
      "outputs": []
    }
  ]
}