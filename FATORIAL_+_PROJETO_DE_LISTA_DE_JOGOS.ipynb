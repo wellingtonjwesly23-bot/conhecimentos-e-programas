{
  "nbformat": 4,
  "nbformat_minor": 0,
  "metadata": {
    "colab": {
      "provenance": [],
      "authorship_tag": "ABX9TyOZmVANDncVIg7jMjPJDldL"
    },
    "kernelspec": {
      "name": "python3",
      "display_name": "Python 3"
    },
    "language_info": {
      "name": "python"
    }
  },
  "cells": [
    {
      "cell_type": "markdown",
      "source": [
        "\n",
        "EXERCICIO 1 CALCULANDO FATORIAL\n",
        "\n"
      ],
      "metadata": {
        "id": "vIA_h-SyiF0-"
      }
    },
    {
      "cell_type": "code",
      "execution_count": 5,
      "metadata": {
        "colab": {
          "base_uri": "https://localhost:8080/"
        },
        "id": "1e-48_rbWiuJ",
        "outputId": "d325205b-a3f9-4563-f67c-dcd74841ace4"
      },
      "outputs": [
        {
          "output_type": "stream",
          "name": "stdout",
          "text": [
            "Digite um numero inteiro: -9\n",
            "Digite um numero inteiro: 3\n",
            "3! = 6\n",
            "Help on function fatorial in module __main__:\n",
            "\n",
            "fatorial(num)\n",
            "    função que calcula a fatorial de um numero inteiro.\n",
            "\n"
          ]
        }
      ],
      "source": [
        "def valida_int(pergunta, min, max):\n",
        "  x = int(input(pergunta))\n",
        "  while ((x < min) or (x > max)):\n",
        "    x = int(input(pergunta))\n",
        "  return x\n",
        "def fatorial(num):\n",
        "  \"\"\"\n",
        "  função que calcula a fatorial de um numero inteiro.\n",
        "  \"\"\"\n",
        "  fat = 1\n",
        "  if num == 0:\n",
        "    return fat\n",
        "#esta parte só executa caso num > 0\n",
        "  for i in range(1, num + 1, 1):\n",
        "    fat *= i\n",
        "  return fat\n",
        "x = valida_int('Digite um numero inteiro: ', 0, 1012312)\n",
        "print(f'{x}! = {fatorial(x)}')\n",
        "help(fatorial)"
      ]
    },
    {
      "cell_type": "markdown",
      "source": [
        "EXERCICIO 2 PROGRAMA DE BIBLIOTECA DE JOGOS"
      ],
      "metadata": {
        "id": "ypmelDp75FIH"
      }
    },
    {
      "cell_type": "code",
      "source": [
        "#definições do Programa\n",
        "def valida_int(pergunta, min, max):\n",
        "  x = int(input(pergunta))\n",
        "  while ((x < min) or (x > max)):\n",
        "    x = int(input(pergunta))\n",
        "  return x\n",
        "\n",
        "def existeArquivo(nomeArquivo):\n",
        "    try:\n",
        "      a = open(nomeArquivo, 'rt')\n",
        "      a.close()\n",
        "    except FileNotFoundError:\n",
        "      return False\n",
        "    else:\n",
        "        return True\n",
        "def criarArquivo(nomeArquivo):\n",
        "    try:\n",
        "      a = open(nomeArquivo, 'wt+')\n",
        "      a.close()\n",
        "    except:\n",
        "      print('Erro na criação do arquivo')\n",
        "    else:\n",
        "        print(f'Arquivo {nomeArquivo} foi criado com sucesso!\\n')\n",
        "\n",
        "def cadastrarjogo(nomeArquivo, nomejogo, nomedovideogame):\n",
        "    try:\n",
        "      a = open(nomeArquivo, 'at')\n",
        "    except:\n",
        "      print('Erro ao abrir o arquivo')\n",
        "    else:\n",
        "      a.write(f'{nomejogo};{nomedovideogame}\\n')\n",
        "    finally:\n",
        "          a.close()\n",
        "def listarArquivo(nomeArquivo):\n",
        "    try:\n",
        "      a = open(nomeArquivo, 'rt')\n",
        "    except:\n",
        "      print('Erro ao ler o arquivo')\n",
        "    else:\n",
        "      print(a.read())\n",
        "    finally:\n",
        "      a.close()\n",
        "\n",
        "#PROGRAMA PRINCIPAL\n",
        "arquivo = 'games.txt'\n",
        "if existeArquivo(arquivo):\n",
        "  print('Arquivo localizado no computador')\n",
        "else:\n",
        "  print('Arquivo inexistente')\n",
        "  criarArquivo(arquivo)\n",
        "  #PROGRAMA PRINCIPAL\n",
        "while True:\n",
        "  print('Menu')\n",
        "  print('1 - Cadastrar um novo jogo')\n",
        "  print('2 - Listar os jogos')\n",
        "  print('3 - Sair')\n",
        "\n",
        "  op = valida_int('Escolha uma opção: ', 1, 3)\n",
        "  if op == 1:\n",
        "    print('Opção 1 Cadastrar um novo jogo... \\n')\n",
        "    nomejogo = input('Nome do jogo: ')\n",
        "    nomedovideogame = input('Nome do videogame: ')\n",
        "    cadastrarjogo(arquivo, nomejogo, nomedovideogame)\n",
        "  elif op == 2:\n",
        "    print('Opção 2 Listar os jogos...\\n ')\n",
        "    listarArquivo(arquivo)\n",
        "  elif op == 3:\n",
        "    print('Saindo...')\n",
        "    break"
      ],
      "metadata": {
        "colab": {
          "base_uri": "https://localhost:8080/"
        },
        "id": "nyg767756KX-",
        "outputId": "1e3e2ed1-06cc-49a1-a0b7-de886bece9f8"
      },
      "execution_count": 7,
      "outputs": [
        {
          "output_type": "stream",
          "name": "stdout",
          "text": [
            "Arquivo localizado no computador\n",
            "Menu\n",
            "1 - Cadastrar um novo jogo\n",
            "2 - Listar os jogos\n",
            "3 - Sair\n",
            "Escolha uma opção: 1\n",
            "Opção 1 Cadastrar um novo jogo... \n",
            "\n",
            "Nome do jogo: bom de guerra\n",
            "Nome do videogame: 2\n",
            "Menu\n",
            "1 - Cadastrar um novo jogo\n",
            "2 - Listar os jogos\n",
            "3 - Sair\n",
            "Escolha uma opção: 2\n",
            "Opção 2 Listar os jogos...\n",
            " \n",
            "jogo do mario snes;2\n",
            "bom de guerra;2\n",
            "\n",
            "Menu\n",
            "1 - Cadastrar um novo jogo\n",
            "2 - Listar os jogos\n",
            "3 - Sair\n",
            "Escolha uma opção: 3\n",
            "Saindo...\n"
          ]
        }
      ]
    }
  ]
}