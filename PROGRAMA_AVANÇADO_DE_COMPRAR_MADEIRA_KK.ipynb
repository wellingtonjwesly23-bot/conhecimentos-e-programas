{
  "nbformat": 4,
  "nbformat_minor": 0,
  "metadata": {
    "colab": {
      "provenance": [],
      "authorship_tag": "ABX9TyPfokV0Bn8c80dUk432egLy"
    },
    "kernelspec": {
      "name": "python3",
      "display_name": "Python 3"
    },
    "language_info": {
      "name": "python"
    }
  },
  "cells": [
    {
      "cell_type": "code",
      "execution_count": null,
      "metadata": {
        "colab": {
          "base_uri": "https://localhost:8080/"
        },
        "id": "_ST26oBQCPbP",
        "outputId": "7f96bb63-2839-49bb-f4a5-085643d152bf"
      },
      "outputs": [
        {
          "output_type": "stream",
          "name": "stdout",
          "text": [
            "Bem-vindo! Desenvolvido por Wellington Wesley\n",
            "Digite o tipo de madeira (PIN/PER/MOG/IPE/IMB): TABUA\n",
            "Opção inválida! Digite uma das opções: PIN, PER, MOG, IPE, IMB.\n",
            "Digite o tipo de madeira (PIN/PER/MOG/IPE/IMB): IPE\n",
            "Digite a quantidade de toras em m³: 500000\n",
            "Quantidade máxima excedida! Aceitamos até 2000 m³.\n",
            "Digite a quantidade de toras em m³: 500\n",
            "Escolha o transporte: 1-Rodoviário 2-Ferroviário 3-Hidroviário: 3\n",
            "Valor final da compra: R$ 98095.50\n"
          ]
        }
      ],
      "source": [
        "# Mensagem de boas-vindas com meu nome (EXIGÊNCIA A)\n",
        "print(\"Bem-vindo! Desenvolvido por Wellington Wesley\")\n",
        "\n",
        "# Função para escolher tipo de madeira (EXIGÊNCIA B)\n",
        "def escolha_tipo():\n",
        "    while True:\n",
        "        tipo = input(\"Digite o tipo de madeira (PIN/PER/MOG/IPE/IMB): \").upper()\n",
        "        if tipo == \"PIN\":\n",
        "            return 150.40\n",
        "        elif tipo == \"PER\":\n",
        "            return 170.20\n",
        "        elif tipo == \"MOG\":\n",
        "            return 190.90\n",
        "        elif tipo == \"IPE\":\n",
        "            return 210.10\n",
        "        elif tipo == \"IMB\":\n",
        "            return 220.70\n",
        "        else:\n",
        "            print(\"Opção inválida! Digite uma das opções: PIN, PER, MOG, IPE, IMB.\")\n",
        "\n",
        "# Função para quantidade de toras e desconto (EXIGÊNCIA C)\n",
        "def qtd_toras():\n",
        "    while True:\n",
        "        try:\n",
        "            qtd = float(input(\"Digite a quantidade de toras em m³: \"))\n",
        "            if qtd > 2000:\n",
        "                print(\"Quantidade máxima excedida! Aceitamos até 2000 m³.\")\n",
        "                continue\n",
        "            if qtd < 100:\n",
        "                desconto = 0\n",
        "            elif qtd < 500:\n",
        "                desconto = 0.04\n",
        "            elif qtd < 1000:\n",
        "                desconto = 0.09\n",
        "            else:\n",
        "                desconto = 0.16\n",
        "            return qtd, desconto\n",
        "        except:\n",
        "            print(\"Valor inválido! Digite um número válido.\")\n",
        "\n",
        "# Função para escolher transporte (EXIGÊNCIA D)\n",
        "def transporte():\n",
        "    while True:\n",
        "        opcao = input(\"Escolha o transporte: 1-Rodoviário 2-Ferroviário 3-Hidroviário: \")\n",
        "        if opcao == \"1\":\n",
        "            return 1000\n",
        "        elif opcao == \"2\":\n",
        "            return 2000\n",
        "        elif opcao == \"3\":\n",
        "            return 2500\n",
        "        else:\n",
        "            print(\"Opção inválida! Escolha 1, 2 ou 3.\")\n",
        "\n",
        "# Código principal (EXIGÊNCIA E, F e G)\n",
        "try:\n",
        "    valor_madeira = escolha_tipo()  # recebe valor do tipo de madeira\n",
        "    qtd, desconto = qtd_toras()  # recebe quantidade e desconto\n",
        "    valor_transporte = transporte()  # recebe valor do transporte\n",
        "\n",
        "    # Cálculo do total\n",
        "    total = ((valor_madeira * qtd) * (1 - desconto)) + valor_transporte\n",
        "    print(f\"Valor final da compra: R$ {total:.2f}\")\n",
        "\n",
        "except Exception as e:\n",
        "    print(\"Ocorreu um erro inesperado. Tente novamente.\")"
      ]
    }
  ]
}