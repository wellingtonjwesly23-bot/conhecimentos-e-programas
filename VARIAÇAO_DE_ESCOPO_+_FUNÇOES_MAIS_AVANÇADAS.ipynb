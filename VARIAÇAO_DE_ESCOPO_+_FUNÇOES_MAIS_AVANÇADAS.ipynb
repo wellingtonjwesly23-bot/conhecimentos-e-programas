{
  "nbformat": 4,
  "nbformat_minor": 0,
  "metadata": {
    "colab": {
      "provenance": [],
      "authorship_tag": "ABX9TyOA582To5IAiqBhjMWwVNBc"
    },
    "kernelspec": {
      "name": "python3",
      "display_name": "Python 3"
    },
    "language_info": {
      "name": "python"
    }
  },
  "cells": [
    {
      "cell_type": "code",
      "source": [
        "PARÃMETROS EM FUNÇÕES"
      ],
      "metadata": {
        "id": "kLLAEBwfR-gj"
      },
      "execution_count": null,
      "outputs": []
    },
    {
      "cell_type": "code",
      "source": [
        "def realce(s1):\n",
        "  print('|','__' * 10, '|')\n",
        "  print('|','__' * 10, '|')\n",
        "  print(s1)\n",
        "  print('|','__' * 10, '|')\n",
        "  print('|','__' * 10, '|')"
      ],
      "metadata": {
        "id": "GM5yONBWRz6c"
      },
      "execution_count": null,
      "outputs": []
    },
    {
      "cell_type": "code",
      "source": [
        "realce('      menu')"
      ],
      "metadata": {
        "id": "t9ahynmwc-bJ"
      },
      "execution_count": null,
      "outputs": []
    },
    {
      "cell_type": "code",
      "source": [
        "def sub2(x, y):\n",
        "    res = y - x\n",
        "    print(res)"
      ],
      "metadata": {
        "id": "yw3MfQBEdTTh"
      },
      "execution_count": null,
      "outputs": []
    },
    {
      "cell_type": "code",
      "source": [
        "sub2(5, 7)"
      ],
      "metadata": {
        "id": "owuNoAkpdyZL"
      },
      "execution_count": null,
      "outputs": []
    },
    {
      "cell_type": "code",
      "source": [
        "sub2(7, 5)"
      ],
      "metadata": {
        "id": "jxauU8Qsd68r"
      },
      "execution_count": null,
      "outputs": []
    },
    {
      "cell_type": "code",
      "source": [
        "sub2(x = 5, y = 7)"
      ],
      "metadata": {
        "id": "ZKHNwUPeeGS0"
      },
      "execution_count": null,
      "outputs": []
    },
    {
      "cell_type": "markdown",
      "source": [
        "PARAMETROS OPCIONAIS"
      ],
      "metadata": {
        "id": "WlvX22W1fwBB"
      }
    },
    {
      "cell_type": "code",
      "source": [
        "def soma1(y, x , z):\n",
        "    res = y + x + z\n",
        "    print(res)"
      ],
      "metadata": {
        "id": "5og3-kPyf10B"
      },
      "execution_count": null,
      "outputs": []
    },
    {
      "cell_type": "code",
      "source": [
        "def soma2(y = 0, x = 0, z = 0):\n",
        "    res = y + x + z\n",
        "    print(res)"
      ],
      "metadata": {
        "id": "ozEkEPHagxgk"
      },
      "execution_count": null,
      "outputs": []
    },
    {
      "cell_type": "code",
      "source": [
        "soma2(3,2,1)\n",
        "soma2(3,2)\n",
        "soma2(3)\n",
        "soma2()"
      ],
      "metadata": {
        "id": "xP_PEgb0g6iG"
      },
      "execution_count": null,
      "outputs": []
    },
    {
      "cell_type": "markdown",
      "source": [
        "EXERCICIO APLICANDO ESSE COMANDO."
      ],
      "metadata": {
        "id": "LLV6k8npjyxr"
      }
    },
    {
      "cell_type": "code",
      "source": [
        "def borda(s1):\n",
        "  tam = len(s1)\n",
        "  if tam :\n",
        "    print('+','-' * tam, '+')\n",
        "    print('|', s1 ,'|')\n",
        "    print('+','-' * tam, '+')\n",
        "#prog principal\n",
        "borda('logíca de prog')\n",
        "borda('python')"
      ],
      "metadata": {
        "id": "CcHppXyihCEc"
      },
      "execution_count": null,
      "outputs": []
    },
    {
      "cell_type": "markdown",
      "source": [
        "ESCOPO DE VARIÁVEIS"
      ],
      "metadata": {
        "id": "HVuiHdZjmxEg"
      }
    },
    {
      "cell_type": "code",
      "source": [
        "#EX DE VARIAVEL LOCAL\n",
        "def omelete():\n",
        "  ovos = 12\n",
        "\n",
        "#prog principal\n",
        "omelete()\n",
        "print(ovos)#ESCOPO GLOBAL\n",
        "#PROG DA ERRO DE DEF\n",
        "\n"
      ],
      "metadata": {
        "id": "ZJbV3lF5kX8k"
      },
      "execution_count": null,
      "outputs": []
    },
    {
      "cell_type": "code",
      "source": [
        "#EX CERTO\n",
        "def omelete():\n",
        "  ovos = 12\n",
        "  print(ovos)\n",
        "#prog principal\n",
        "omelete()"
      ],
      "metadata": {
        "id": "r1IrZI2eqwqf"
      },
      "execution_count": null,
      "outputs": []
    },
    {
      "cell_type": "code",
      "source": [
        "#EX COM VARIAÇAO GLOBAL\n",
        "def omelete():\n",
        "  print(ovos)\n",
        "#prog principal\n",
        "ovos = 10\n",
        "print(ovos)"
      ],
      "metadata": {
        "id": "NHBeDrBUrHIy"
      },
      "execution_count": null,
      "outputs": []
    },
    {
      "cell_type": "code",
      "source": [
        "#OUTRO EX\n",
        "def omelete():\n",
        "  ovos = 12 #escopo local\n",
        "  print(' OVOS = ', ovos)\n",
        "def bacon():\n",
        "  ovos = 6 #escopo local\n",
        "  print(' OVOS = ', ovos)\n",
        "  omelete()\n",
        "  print(' OVOS = ', ovos)\n",
        "#prog principal\n",
        "ovos = 2\n",
        "bacon()\n",
        "\n",
        "print(ovos)"
      ],
      "metadata": {
        "id": "SCNiKlrhTHxk"
      },
      "execution_count": null,
      "outputs": []
    },
    {
      "cell_type": "markdown",
      "source": [
        "A INSTRUÇÃO GLOBAL"
      ],
      "metadata": {
        "id": "4FVyTc0YUfQK"
      }
    },
    {
      "cell_type": "code",
      "source": [
        "def omelete():\n",
        "  global ovos\n",
        "  ovos = 12\n",
        "\n",
        "  #prog principal\n",
        "ovos = 10\n",
        "omelete()\n",
        "print(ovos)"
      ],
      "metadata": {
        "id": "FGzKSkVCUelb"
      },
      "execution_count": null,
      "outputs": []
    },
    {
      "cell_type": "code",
      "source": [
        "def omelete():\n",
        "  global ovos\n",
        "  ovos = 12\n",
        "  bacon()\n",
        "\n",
        "def bacon():\n",
        "  ovos = 6 #escopo local\n",
        "  pimenta()\n",
        "\n",
        "def pimenta():\n",
        "  print(ovos)\n",
        "\n",
        "\n",
        "#prog principal\n",
        "ovos = 2\n",
        "omelete()\n",
        "print(ovos)"
      ],
      "metadata": {
        "id": "IucOqmlRc6a9"
      },
      "execution_count": null,
      "outputs": []
    },
    {
      "cell_type": "markdown",
      "source": [
        "RETORNO DE VALORES EM FUNÇÕES"
      ],
      "metadata": {
        "id": "WTpGIrmriiiM"
      }
    },
    {
      "cell_type": "code",
      "source": [
        "def soma3(a = 0, b = 0, c = 0):\n",
        "  res = a + b + c\n",
        "  return res\n"
      ],
      "metadata": {
        "id": "kDsKUJ9Jiu-c"
      },
      "execution_count": null,
      "outputs": []
    },
    {
      "cell_type": "code",
      "source": [
        "#programa principal\n",
        "retornado = soma3(1, 2, 3)\n",
        "print(retornado)\n",
        "\n",
        "#forma alternativa simplificada\n",
        "print(soma3(2,2))"
      ],
      "metadata": {
        "id": "T8IhJGgomwyY"
      },
      "execution_count": null,
      "outputs": []
    },
    {
      "cell_type": "code",
      "source": [
        "#programa principal\n",
        "retornado1 = soma3(1, 2, 3)\n",
        "retornado2 = soma3(2,2)\n",
        "retornado3 = soma3()\n",
        "print(f'{retornado1} {retornado2} {retornado3}')"
      ],
      "metadata": {
        "id": "PmjTHmTBtbet"
      },
      "execution_count": null,
      "outputs": []
    },
    {
      "cell_type": "markdown",
      "source": [
        "EXERCÍCIOS"
      ],
      "metadata": {
        "id": "wRGYzJAVuDTZ"
      }
    },
    {
      "cell_type": "code",
      "source": [
        "#Exercício 1\n",
        "def valida_string(pergunta, min, max):\n",
        "  s1 = input(pergunta)\n",
        "  tam = len(s1)\n",
        "  while ((tam < min) or (tam > max)):\n",
        "    s1 = input(pergunta)\n",
        "    tam = len(s1)\n",
        "  return s1\n",
        "\n",
        "#programa principal\n",
        "x = valida_string('Digite uma string: ', 10, 30)\n",
        "print('Voce digitou a string:{}. \\n dado válido. encerrando o programa ...'. format(x))"
      ],
      "metadata": {
        "id": "Qpbk5G19uB5Z"
      },
      "execution_count": null,
      "outputs": []
    },
    {
      "cell_type": "markdown",
      "source": [
        "FUNÇÕES TRY E EXECEPT"
      ],
      "metadata": {
        "id": "aYRpTFrV-xBg"
      }
    },
    {
      "cell_type": "code",
      "source": [
        "#TRY E EXCEPT TEM A FUNÇÃO DE CONDICIONAR O CODIGO A PULAR UM TIPO DE ERRO\n",
        "while True:\n",
        "  try:\n",
        "    x = int(input('por favor digite um numero inteiro: '))\n",
        "    break\n",
        "  except ValueError:\n",
        "    print('Oops! Numero invalido. Tente novamente...')"
      ],
      "metadata": {
        "id": "ZrC_d-vZ_QHg"
      },
      "execution_count": null,
      "outputs": []
    },
    {
      "cell_type": "code",
      "source": [
        "#Outro exemplo\n",
        "i = 0\n",
        "while True:\n",
        "  try:\n",
        "      nome = input('Digite o seu nome: ')\n",
        "      ind = int(input('Digite o indice do seu nome digitado:'))\n",
        "      print(nome[ind])\n",
        "      break\n",
        "  except ValueError:\n",
        "    print('Oops! Numero invalido. Tente novamente...')\n",
        "  except IndexError:\n",
        "    print('Oops! índice inválido. Tente novamente...')\n",
        "  finally:\n",
        "    print(f'Tentativa {i}')\n",
        "    i += 1"
      ],
      "metadata": {
        "id": "mG-lD1KFyPnx"
      },
      "execution_count": null,
      "outputs": []
    },
    {
      "cell_type": "code",
      "source": [
        "#Outro exemplo\n",
        "def div():\n",
        "  try:\n",
        "      num1 = int(input('Digite um número: '))\n",
        "      num2 = int(input('Digite um número: '))\n",
        "      res = num1 / num2\n",
        "  except ZeroDivisionError:\n",
        "      print(\"Oops! Erro de divisão por zero. Tente novamente...\")\n",
        "  except:\n",
        "      print(\"Algo de errado aconteceu..\")\n",
        "  else:\n",
        "      return res\n",
        "  finally:\n",
        "      print(\"executará sempre!\")\n",
        "  #programa principal\n",
        "print(div())"
      ],
      "metadata": {
        "id": "5pesCEgszYMH"
      },
      "execution_count": null,
      "outputs": []
    },
    {
      "cell_type": "markdown",
      "source": [
        "FUNÇÃO LAMBDA"
      ],
      "metadata": {
        "id": "npGImoJw2bE9"
      }
    },
    {
      "cell_type": "code",
      "source": [
        "res = lambda x: x * x\n",
        "print(res(3))"
      ],
      "metadata": {
        "id": "LdciUo7b2j20"
      },
      "execution_count": null,
      "outputs": []
    },
    {
      "cell_type": "code",
      "source": [
        "soma = lambda x, y: x + y\n",
        "print(soma(2,3))"
      ],
      "metadata": {
        "id": "hUtTFzIL2qVN"
      },
      "execution_count": null,
      "outputs": []
    },
    {
      "cell_type": "markdown",
      "source": [
        "EXERCICIO"
      ],
      "metadata": {
        "id": "ej1ak8jv2vWF"
      }
    },
    {
      "cell_type": "code",
      "source": [
        "calc = lambda a, b: (a +5) * b\n",
        "print(calc(5,10))"
      ],
      "metadata": {
        "id": "BMUSPaL620Hl"
      },
      "execution_count": null,
      "outputs": []
    }
  ]
}