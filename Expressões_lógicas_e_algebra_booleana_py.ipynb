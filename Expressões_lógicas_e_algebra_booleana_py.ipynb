{
  "nbformat": 4,
  "nbformat_minor": 0,
  "metadata": {
    "colab": {
      "provenance": [],
      "authorship_tag": "ABX9TyMdgFOos6zKfRQ9K5PIZ/iS",
      "include_colab_link": true
    },
    "kernelspec": {
      "name": "python3",
      "display_name": "Python 3"
    },
    "language_info": {
      "name": "python"
    }
  },
  "cells": [
    {
      "cell_type": "markdown",
      "metadata": {
        "id": "view-in-github",
        "colab_type": "text"
      },
      "source": [
        "<a href=\"https://colab.research.google.com/github/wellingtonjwesly23-bot/conhecimentos-e-programas/blob/main/Express%C3%B5es_l%C3%B3gicas_e_algebra_booleana_py.ipynb\" target=\"_parent\"><img src=\"https://colab.research.google.com/assets/colab-badge.svg\" alt=\"Open In Colab\"/></a>"
      ]
    },
    {
      "cell_type": "markdown",
      "source": [
        "Expressões lógicas e álgebra booleana"
      ],
      "metadata": {
        "id": "hLOAybSRCFS5"
      }
    },
    {
      "cell_type": "markdown",
      "source": [
        "operadores logicos/booleanos"
      ],
      "metadata": {
        "id": "XsFzZkEGDiAZ"
      }
    },
    {
      "cell_type": "code",
      "execution_count": 2,
      "metadata": {
        "colab": {
          "base_uri": "https://localhost:8080/"
        },
        "id": "sd1F7Zf78eeo",
        "outputId": "8821f007-47ad-4600-d4c7-8d25c3312ebe"
      },
      "outputs": [
        {
          "output_type": "stream",
          "name": "stdout",
          "text": [
            "False\n",
            "True\n"
          ]
        }
      ],
      "source": [
        "#not\n",
        "x = True\n",
        "y = False\n",
        "print(not x)\n",
        "print(not y)"
      ]
    },
    {
      "cell_type": "markdown",
      "source": [],
      "metadata": {
        "id": "Ewmz-rZiDr0Z"
      }
    },
    {
      "cell_type": "code",
      "source": [
        "#and\n",
        "x = True\n",
        "y = False\n",
        "print(x and y)"
      ],
      "metadata": {
        "colab": {
          "base_uri": "https://localhost:8080/"
        },
        "id": "6_E0y1E8DO7r",
        "outputId": "7c901bd8-9dfb-47f1-cdf2-799c9948b497"
      },
      "execution_count": 3,
      "outputs": [
        {
          "output_type": "stream",
          "name": "stdout",
          "text": [
            "False\n"
          ]
        }
      ]
    },
    {
      "cell_type": "code",
      "source": [
        "#or\n",
        "x = True\n",
        "y = False\n",
        "print(x or y)"
      ],
      "metadata": {
        "colab": {
          "base_uri": "https://localhost:8080/"
        },
        "id": "q2M1wSbEDX5R",
        "outputId": "346e85e4-7b6a-40fb-dfb4-15741220ea6d"
      },
      "execution_count": 4,
      "outputs": [
        {
          "output_type": "stream",
          "name": "stdout",
          "text": [
            "True\n"
          ]
        }
      ]
    },
    {
      "cell_type": "markdown",
      "source": [
        "Expressões Lógicas/booleanas"
      ],
      "metadata": {
        "id": "nMt88NR5E7-D"
      }
    },
    {
      "cell_type": "code",
      "source": [
        "x = 10\n",
        "y = 1\n",
        "res = not x > y\n",
        "print(res)"
      ],
      "metadata": {
        "colab": {
          "base_uri": "https://localhost:8080/"
        },
        "id": "WooBuJXkFMgf",
        "outputId": "04f7a3be-050a-46ca-ca02-f50b37999b80"
      },
      "execution_count": 5,
      "outputs": [
        {
          "output_type": "stream",
          "name": "stdout",
          "text": [
            "False\n"
          ]
        }
      ]
    },
    {
      "cell_type": "code",
      "source": [
        "x = 10\n",
        "y = 1\n",
        "z = 5.5\n",
        "res = x > y and z == y\n",
        "print(res)"
      ],
      "metadata": {
        "colab": {
          "base_uri": "https://localhost:8080/"
        },
        "id": "Ohou7sP1FngM",
        "outputId": "6aa985ad-72fa-4824-a26e-b60c329314c4"
      },
      "execution_count": 6,
      "outputs": [
        {
          "output_type": "stream",
          "name": "stdout",
          "text": [
            "False\n"
          ]
        }
      ]
    },
    {
      "cell_type": "code",
      "source": [
        "x = 10\n",
        "y = 1\n",
        "z = 5.5\n",
        "res = x > y or not z == y and y != y + z / x #1.55\n",
        "    # true or not false and true\n",
        "    # true or true and true\n",
        "    # true or true\n",
        "print(res)"
      ],
      "metadata": {
        "colab": {
          "base_uri": "https://localhost:8080/"
        },
        "id": "BMyO5NF7GGim",
        "outputId": "45599379-a8aa-4e61-b639-71eefb46aa5d"
      },
      "execution_count": 7,
      "outputs": [
        {
          "output_type": "stream",
          "name": "stdout",
          "text": [
            "True\n"
          ]
        }
      ]
    },
    {
      "cell_type": "code",
      "source": [
        "\n",
        "#EXERCICIO CODANDO\n",
        "M1 = float(input('digite a nota da M1: '))\n",
        "M2 = float(input('digite a nota da M2: '))\n",
        "M3 = float(input('digite a nota da M3: '))\n",
        "if M1 >= 7 and M2 >= 7 and M3 >= 7:\n",
        "    print('aprovado')\n",
        "else:\n",
        "    print('reprovado')"
      ],
      "metadata": {
        "id": "TJIQ3KVGIJiU"
      },
      "execution_count": null,
      "outputs": []
    }
  ]
}