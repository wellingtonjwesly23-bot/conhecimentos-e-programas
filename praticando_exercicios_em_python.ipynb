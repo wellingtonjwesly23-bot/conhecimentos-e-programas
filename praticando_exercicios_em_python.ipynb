{
  "nbformat": 4,
  "nbformat_minor": 0,
  "metadata": {
    "colab": {
      "provenance": [],
      "authorship_tag": "ABX9TyNQ7m7Z4lnZJFNV1IOKS6YR",
      "include_colab_link": true
    },
    "kernelspec": {
      "name": "python3",
      "display_name": "Python 3"
    },
    "language_info": {
      "name": "python"
    }
  },
  "cells": [
    {
      "cell_type": "markdown",
      "metadata": {
        "id": "view-in-github",
        "colab_type": "text"
      },
      "source": [
        "<a href=\"https://colab.research.google.com/github/wellingtonjwesly23-bot/conhecimentos-e-programas/blob/main/praticando_exercicios_em_python.ipynb\" target=\"_parent\"><img src=\"https://colab.research.google.com/assets/colab-badge.svg\" alt=\"Open In Colab\"/></a>"
      ]
    },
    {
      "cell_type": "markdown",
      "source": [
        "ESTRUTURA DE REP COM WHILE"
      ],
      "metadata": {
        "id": "aRcoOPoDvvLT"
      }
    },
    {
      "cell_type": "code",
      "execution_count": null,
      "metadata": {
        "id": "wlcGcYB-qTK-"
      },
      "outputs": [],
      "source": [
        "x = 1\n",
        "while (x <= 5):\n",
        "     print(x)\n",
        "     x= x + 1"
      ]
    },
    {
      "cell_type": "code",
      "source": [
        "x = 1\n",
        "while (x <= 99):\n",
        "     print(x)\n",
        "     x= x + 1"
      ],
      "metadata": {
        "id": "xycxTQxExI7W"
      },
      "execution_count": null,
      "outputs": []
    },
    {
      "cell_type": "markdown",
      "source": [
        "CONTADORES"
      ],
      "metadata": {
        "id": "KiKl_2_zyQiT"
      }
    },
    {
      "cell_type": "code",
      "source": [
        "inicial = int(input(\"Digite o valor inicial: \"))\n",
        "final = int(input(\"Digite o valor final: \"))\n",
        "x = inicial\n",
        "while (x <= final):\n",
        "  #verificar se o numero é par\n",
        "  if (x % 2 == 0):\n",
        "     print(x)\n",
        "  x= x + 1"
      ],
      "metadata": {
        "id": "cw9GiiBryVML"
      },
      "execution_count": null,
      "outputs": []
    },
    {
      "cell_type": "markdown",
      "source": [
        "ACUMULADORES"
      ],
      "metadata": {
        "id": "D-m9rXnh0LkD"
      }
    },
    {
      "cell_type": "code",
      "source": [
        "soma = 0\n",
        "cont = 1\n",
        "while (cont <= 5):\n",
        "  num = float(input(f\"Digite a {cont}ª nota: \"))\n",
        "  soma = soma + num\n",
        "  cont = cont + 1\n",
        "  media = soma / 5\n",
        "print(f'media final: {media}')"
      ],
      "metadata": {
        "id": "oBoconCB0O_7"
      },
      "execution_count": null,
      "outputs": []
    },
    {
      "cell_type": "markdown",
      "source": [
        "OPERADORES ESPECIAIS DE ATRIBUIÇAO"
      ],
      "metadata": {
        "id": "N_Bk6bjpm6q3"
      }
    },
    {
      "cell_type": "code",
      "source": [
        "soma = 0\n",
        "cont = 1\n",
        "while (cont <= 5):\n",
        "  num = float(input(f\"Digite a {cont}ª nota: \"))\n",
        "  soma += num # EQUIVALENTE A SOMA + NUM\n",
        "  cont += 1 #EQUIVALENTE A CONT + 1\n",
        "print(f'Somatório : {soma}')"
      ],
      "metadata": {
        "id": "P3AOFSfzncCp"
      },
      "execution_count": null,
      "outputs": []
    },
    {
      "cell_type": "markdown",
      "source": [
        "VALIDANDO DADOS DE ENTRADA COM UM LOOP"
      ],
      "metadata": {
        "id": "G87RFiytTyE9"
      }
    },
    {
      "cell_type": "code",
      "source": [
        "X = int(input(\"Digite um valor maior que zero: \"))\n",
        "while (X <= 0):\n",
        "  X = int(input(\"Digite um valor maior que zero novamente: \"))\n",
        "print(f'Você digitou {X}, que é um valor válido.')"
      ],
      "metadata": {
        "id": "HPvsll3GT5px"
      },
      "execution_count": null,
      "outputs": []
    },
    {
      "cell_type": "markdown",
      "source": [
        "INTERROMPENDO LOOP COM BREAK"
      ],
      "metadata": {
        "id": "Cb0c4tEXU7RA"
      }
    },
    {
      "cell_type": "code",
      "source": [
        "print('Digite uma mensagem que irei repetir para você')\n",
        "print('Para encerrar escreva \"sair\"')\n",
        "while True:\n",
        "  texto = input('')\n",
        "  print(texto)\n",
        "  if texto == \"sair\":\n",
        "    break\n",
        "print('Obrigado por participar')"
      ],
      "metadata": {
        "id": "F31EkFPCUPU7"
      },
      "execution_count": null,
      "outputs": []
    },
    {
      "cell_type": "markdown",
      "source": [
        "VOLTANDO AO INICIO DO LAÇO COM CONTINUE"
      ],
      "metadata": {
        "id": "5ruqqIsvV3lQ"
      }
    },
    {
      "cell_type": "code",
      "source": [
        "while True:\n",
        "  nome = input('digite seu e-mail:')\n",
        "  if (nome != 'well@python.com'):\n",
        "    continue\n",
        "  senha = input('digite sua senha:')\n",
        "  if (senha == '123456'):\n",
        "   break\n",
        "print('Acesso permitido')"
      ],
      "metadata": {
        "id": "cvxq4t88V8lP"
      },
      "execution_count": null,
      "outputs": []
    },
    {
      "cell_type": "markdown",
      "source": [
        "VALORES \"Truthy\" e \"Falsey\""
      ],
      "metadata": {
        "id": "d3nAh9rvgGNo"
      }
    },
    {
      "cell_type": "code",
      "source": [
        "nome = ''\n",
        "while not nome:\n",
        "  nome = input('Digite seu nome:')\n",
        "valor = int(input('Digite um numero : '))\n",
        "if valor:\n",
        "  print(f'Você digitou {valor}.')\n",
        "else:\n",
        "  print('Você não digitou um valor válido.')\n",
        "\n"
      ],
      "metadata": {
        "id": "vK2ickz8gbJU"
      },
      "execution_count": null,
      "outputs": []
    },
    {
      "cell_type": "markdown",
      "source": [
        "Comando for 'para'"
      ],
      "metadata": {
        "id": "UcZrTlCNh9ly"
      }
    },
    {
      "cell_type": "code",
      "source": [
        "for i in range(6):\n",
        "    print(i)"
      ],
      "metadata": {
        "id": "GvSOLrMxiE-K"
      },
      "execution_count": null,
      "outputs": []
    },
    {
      "cell_type": "markdown",
      "source": [
        "COM TRÊS PARÂMETROS"
      ],
      "metadata": {
        "id": "IShb2m9okeQ-"
      }
    },
    {
      "cell_type": "code",
      "source": [
        "for i in range(1,6,1):\n",
        "    print(i)"
      ],
      "metadata": {
        "id": "_HzEnwW6kvle"
      },
      "execution_count": null,
      "outputs": []
    },
    {
      "cell_type": "code",
      "source": [
        "for i in range(10,0,-2):\n",
        "    print(i)"
      ],
      "metadata": {
        "id": "imqHTpDGlGEm"
      },
      "execution_count": null,
      "outputs": []
    },
    {
      "cell_type": "markdown",
      "source": [
        "Varredura de string"
      ],
      "metadata": {
        "id": "C7sqKs8cmBzY"
      }
    },
    {
      "cell_type": "code",
      "source": [
        "frase = 'Python é uma linguagem de programação'\n",
        "for i in range(0, len(frase), 1):\n",
        "    print(frase[i], end='')"
      ],
      "metadata": {
        "id": "s-XkAsrRmIzQ"
      },
      "execution_count": null,
      "outputs": []
    },
    {
      "cell_type": "markdown",
      "source": [
        "EX MAIS NA PRATICA"
      ],
      "metadata": {
        "id": "Pi8UJzb8ucAP"
      }
    },
    {
      "cell_type": "code",
      "source": [
        "soma = 0\n",
        "qtd = 0\n",
        "for i in range(1,101):\n",
        "   if (i % 2 == 0):\n",
        "     soma += i\n",
        "     qtd += 1\n",
        "media = soma / qtd\n",
        "print(f'A média dos números pares de 1 a 100 é: {media}')"
      ],
      "metadata": {
        "colab": {
          "base_uri": "https://localhost:8080/"
        },
        "id": "LFFbZgSqujzP",
        "outputId": "c23230ce-026c-4ad3-d6b5-12001ef3b2ee"
      },
      "execution_count": 12,
      "outputs": [
        {
          "output_type": "stream",
          "name": "stdout",
          "text": [
            "A média dos números pares de 1 a 100 é: 51.0\n"
          ]
        }
      ]
    },
    {
      "cell_type": "markdown",
      "source": [
        "Extruturas de repetição aninhadas\n",
        "\n",
        "Tabuadas\n",
        "\n"
      ],
      "metadata": {
        "id": "xe4oEYDjvZjj"
      }
    },
    {
      "cell_type": "code",
      "source": [
        "#TABUADA DO 1 AO 10 COM 2 WHILE\n",
        "tabuada = 1\n",
        "while tabuada <= 10:\n",
        "  print(f'tabuada do {tabuada}')\n",
        "  i = 1\n",
        "  while i <= 10:\n",
        "    print(f'{tabuada} x {i} = {tabuada * i}')\n",
        "    i += 1\n",
        "  tabuada += 1\n"
      ],
      "metadata": {
        "id": "jcjDXrVOvlgN"
      },
      "execution_count": null,
      "outputs": []
    },
    {
      "cell_type": "code",
      "source": [
        "#COM DOIS COMANDOS FOR\n",
        "for tabuada in range(1,11):\n",
        "  print(f'tabuada do {tabuada}')\n",
        "  for i in range(1,11):\n",
        "    print(f'{tabuada} x {i} = {tabuada * i}')"
      ],
      "metadata": {
        "id": "F-uOYF07p_D4"
      },
      "execution_count": null,
      "outputs": []
    },
    {
      "cell_type": "code",
      "source": [
        "# COM WHILE E FOR JUNTOS\n",
        "tabuada = 1\n",
        "while tabuada <= 10:\n",
        "  print(f'tabuada do {tabuada}')\n",
        "  for i in range(1,11):\n",
        "    print(f'{tabuada} x {i} = {tabuada * i}')\n",
        "  tabuada"
      ],
      "metadata": {
        "id": "Mo-rRR3gqtoQ"
      },
      "execution_count": null,
      "outputs": []
    }
  ]
}