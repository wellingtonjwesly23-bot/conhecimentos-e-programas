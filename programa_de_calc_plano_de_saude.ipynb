{
  "nbformat": 4,
  "nbformat_minor": 0,
  "metadata": {
    "colab": {
      "provenance": [],
      "authorship_tag": "ABX9TyO3rFaa4TJY8yEDwJRPK2am"
    },
    "kernelspec": {
      "name": "python3",
      "display_name": "Python 3"
    },
    "language_info": {
      "name": "python"
    }
  },
  "cells": [
    {
      "cell_type": "code",
      "execution_count": null,
      "metadata": {
        "colab": {
          "base_uri": "https://localhost:8080/"
        },
        "id": "2KlZJ9pdyZwj",
        "outputId": "d994b534-e973-4465-eaf6-d69a88daffe5"
      },
      "outputs": [
        {
          "output_type": "stream",
          "name": "stdout",
          "text": [
            "Bem-vindo ao calculador de plano de saúde, Wellington Wesley!\n",
            "Digite o valor base do plano: 100.00\n",
            "Digite a idade do cliente: 26\n",
            "O valor mensal do plano para a idade 26 é: R$ 225.00\n"
          ]
        }
      ],
      "source": [
        "# Exigência de Código 1 de 6: Mensagem de boas-vindas com nome e sobrenome\n",
        "print('Bem-vindo ao calculador de plano de saúde, Wellington Wesley!')\n",
        "\n",
        "# Exigência de Código 2 de 6: Input do valor base e idade\n",
        "valor_base = float(input('Digite o valor base do plano: '))\n",
        "idade = int(input('Digite a idade do cliente: '))\n",
        "\n",
        "# Exigência de Código 3 de 6: Regras de valores com base na idade\n",
        "# Exigência de Código 5 de 6: Uso de if, elif e else\n",
        "if idade == 0 <= 19:\n",
        "   porcentagem = 100 / 100\n",
        "elif 19 >= idade < 29:\n",
        "      porcentagem = 150 / 100\n",
        "elif 29 >= idade < 39:\n",
        "      porcentagem = 225 / 100\n",
        "elif 39 >= idade < 49:\n",
        "      porcentagem = 240 / 100\n",
        "elif 49 >= idade < 59:\n",
        "      porcentagem = 350 / 100\n",
        "else:\n",
        "  idade >= 59\n",
        "  porcentagem = 600 / 100\n",
        "\n",
        "# Exigência de Código 4 de 6: Cálculo do valor mensal\n",
        "valor_mensal = valor_base * porcentagem\n",
        "\n",
        "# Exigência de Saída de Console 2 de 2: Apresentar o valor mensal para idade\n",
        "if idade >= 0:\n",
        "  print(f'O valor mensal do plano para a idade {idade} é: R$ {valor_mensal:.2f}')\n",
        "\n",
        "# O código acima calcula a porcentagem do valor base com base na idade do cliente\n",
        "# e em seguida calcula o valor mensal do plano.\n",
        "# A estrutura if-elif-else é utilizada para aplicar as diferentes regras de porcentagem por faixa etária.\n",
        "# O resultado é exibido apenas se a idade for maior ou igual a 29 anos, conforme exigido."
      ]
    }
  ]
}